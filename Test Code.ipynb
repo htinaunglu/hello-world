{
 "cells": [
  {
   "cell_type": "code",
   "execution_count": 3,
   "id": "4b846fe7-92d5-4822-87f5-96e548b29d6b",
   "metadata": {},
   "outputs": [],
   "source": [
    "import pickle\n",
    "\n",
    "with open(\"./cifar-100-python/meta\", \"rb\") as f:\n",
    "    dataset_meta = pickle.load(f, encoding='bytes')\n",
    "\n",
    "with open(\"./cifar-100-python/test\", \"rb\") as f:\n",
    "    dataset_test = pickle.load(f, encoding='bytes')\n",
    "\n",
    "with open(\"./cifar-100-python/train\", \"rb\") as f:\n",
    "    dataset_train = pickle.load(f, encoding='bytes')"
   ]
  },
  {
   "cell_type": "code",
   "execution_count": 33,
   "id": "677cad0b-fe20-4bfa-81c9-f928f0f94a85",
   "metadata": {},
   "outputs": [],
   "source": [
    "import pandas as pd\n",
    "import numpy as np\n",
    "import matplotlib.pyplot as plt\n",
    "dataset_train.keys()\n",
    "import os"
   ]
  },
  {
   "cell_type": "code",
   "execution_count": 48,
   "id": "c6983e95-6b74-45c7-811a-66dd6f39de4f",
   "metadata": {},
   "outputs": [],
   "source": [
    "#Construct the dataframe\n",
    "df_train = pd.DataFrame({\n",
    "    \"filenames\": dataset_train[b'filenames'],\n",
    "    \"labels\": dataset_train[b'fine_labels'],\n",
    "    \"row\": range(len(dataset_train[b'filenames']))\n",
    "})"
   ]
  },
  {
   "cell_type": "code",
   "execution_count": 49,
   "id": "3a5c3030-ae0b-4e6e-87a8-d85d5eca0610",
   "metadata": {
    "tags": []
   },
   "outputs": [
    {
     "data": {
      "text/html": [
       "<div>\n",
       "<style scoped>\n",
       "    .dataframe tbody tr th:only-of-type {\n",
       "        vertical-align: middle;\n",
       "    }\n",
       "\n",
       "    .dataframe tbody tr th {\n",
       "        vertical-align: top;\n",
       "    }\n",
       "\n",
       "    .dataframe thead th {\n",
       "        text-align: right;\n",
       "    }\n",
       "</style>\n",
       "<table border=\"1\" class=\"dataframe\">\n",
       "  <thead>\n",
       "    <tr style=\"text-align: right;\">\n",
       "      <th></th>\n",
       "      <th>filenames</th>\n",
       "      <th>labels</th>\n",
       "      <th>row</th>\n",
       "    </tr>\n",
       "  </thead>\n",
       "  <tbody>\n",
       "    <tr>\n",
       "      <th>0</th>\n",
       "      <td>b'bos_taurus_s_000507.png'</td>\n",
       "      <td>19</td>\n",
       "      <td>0</td>\n",
       "    </tr>\n",
       "    <tr>\n",
       "      <th>1</th>\n",
       "      <td>b'stegosaurus_s_000125.png'</td>\n",
       "      <td>29</td>\n",
       "      <td>1</td>\n",
       "    </tr>\n",
       "    <tr>\n",
       "      <th>2</th>\n",
       "      <td>b'mcintosh_s_000643.png'</td>\n",
       "      <td>0</td>\n",
       "      <td>2</td>\n",
       "    </tr>\n",
       "    <tr>\n",
       "      <th>3</th>\n",
       "      <td>b'altar_boy_s_001435.png'</td>\n",
       "      <td>11</td>\n",
       "      <td>3</td>\n",
       "    </tr>\n",
       "    <tr>\n",
       "      <th>4</th>\n",
       "      <td>b'cichlid_s_000031.png'</td>\n",
       "      <td>1</td>\n",
       "      <td>4</td>\n",
       "    </tr>\n",
       "  </tbody>\n",
       "</table>\n",
       "</div>"
      ],
      "text/plain": [
       "                     filenames  labels  row\n",
       "0   b'bos_taurus_s_000507.png'      19    0\n",
       "1  b'stegosaurus_s_000125.png'      29    1\n",
       "2     b'mcintosh_s_000643.png'       0    2\n",
       "3    b'altar_boy_s_001435.png'      11    3\n",
       "4      b'cichlid_s_000031.png'       1    4"
      ]
     },
     "execution_count": 49,
     "metadata": {},
     "output_type": "execute_result"
    }
   ],
   "source": [
    "df_train.head()"
   ]
  },
  {
   "cell_type": "code",
   "execution_count": 47,
   "id": "35cb6d9a-094e-457a-b656-ac5781cd82ee",
   "metadata": {},
   "outputs": [],
   "source": [
    "#creating a drop function for labels which are not 8 or 48\n",
    "def unnesdrop(df):\n",
    "    index_names = df[(df['labels'] !=8) & (df['labels'] !=48)].index\n",
    "    df.drop(index_names, inplace = True)\n",
    "    return\n",
    "    "
   ]
  },
  {
   "cell_type": "code",
   "execution_count": 50,
   "id": "b6a5a55b-cc0c-4c26-9c5d-ca042a670b46",
   "metadata": {},
   "outputs": [],
   "source": [
    "unnesdrop(df_train)"
   ]
  },
  {
   "cell_type": "code",
   "execution_count": 44,
   "id": "5b3feddc-fc40-453e-a5dd-82538e864f66",
   "metadata": {
    "collapsed": true,
    "jupyter": {
     "outputs_hidden": true
    },
    "tags": []
   },
   "outputs": [
    {
     "ename": "ValueError",
     "evalue": "('Lengths must match to compare', (1000,), (2,))",
     "output_type": "error",
     "traceback": [
      "\u001b[1;31m---------------------------------------------------------------------------\u001b[0m",
      "\u001b[1;31mValueError\u001b[0m                                Traceback (most recent call last)",
      "\u001b[1;32m~\\AppData\\Local\\Temp/ipykernel_15208/1462679974.py\u001b[0m in \u001b[0;36m<module>\u001b[1;34m\u001b[0m\n\u001b[0;32m      1\u001b[0m \u001b[1;31m# Drop all rows from df_train where label is not 8 or 48\u001b[0m\u001b[1;33m\u001b[0m\u001b[1;33m\u001b[0m\u001b[1;33m\u001b[0m\u001b[0m\n\u001b[0;32m      2\u001b[0m \u001b[0midx\u001b[0m \u001b[1;33m=\u001b[0m \u001b[1;33m[\u001b[0m\u001b[1;36m8\u001b[0m\u001b[1;33m,\u001b[0m\u001b[1;36m48\u001b[0m\u001b[1;33m]\u001b[0m\u001b[1;33m\u001b[0m\u001b[1;33m\u001b[0m\u001b[0m\n\u001b[1;32m----> 3\u001b[1;33m \u001b[0mindex_names\u001b[0m \u001b[1;33m=\u001b[0m \u001b[0mdf_train\u001b[0m\u001b[1;33m[\u001b[0m\u001b[0mdf_train\u001b[0m\u001b[1;33m[\u001b[0m\u001b[1;34m'labels'\u001b[0m\u001b[1;33m]\u001b[0m \u001b[1;33m!=\u001b[0m \u001b[0midx\u001b[0m\u001b[1;33m]\u001b[0m\u001b[1;33m.\u001b[0m\u001b[0mindex\u001b[0m\u001b[1;33m\u001b[0m\u001b[1;33m\u001b[0m\u001b[0m\n\u001b[0m\u001b[0;32m      4\u001b[0m \u001b[1;31m#index_names = df_train[(df_train['labels'] != 8) & (df_train['labels'] != 48) ].index\u001b[0m\u001b[1;33m\u001b[0m\u001b[1;33m\u001b[0m\u001b[1;33m\u001b[0m\u001b[0m\n",
      "\u001b[1;32mc:\\program files\\python37\\lib\\site-packages\\pandas\\core\\ops\\common.py\u001b[0m in \u001b[0;36mnew_method\u001b[1;34m(self, other)\u001b[0m\n\u001b[0;32m     67\u001b[0m         \u001b[0mother\u001b[0m \u001b[1;33m=\u001b[0m \u001b[0mitem_from_zerodim\u001b[0m\u001b[1;33m(\u001b[0m\u001b[0mother\u001b[0m\u001b[1;33m)\u001b[0m\u001b[1;33m\u001b[0m\u001b[1;33m\u001b[0m\u001b[0m\n\u001b[0;32m     68\u001b[0m \u001b[1;33m\u001b[0m\u001b[0m\n\u001b[1;32m---> 69\u001b[1;33m         \u001b[1;32mreturn\u001b[0m \u001b[0mmethod\u001b[0m\u001b[1;33m(\u001b[0m\u001b[0mself\u001b[0m\u001b[1;33m,\u001b[0m \u001b[0mother\u001b[0m\u001b[1;33m)\u001b[0m\u001b[1;33m\u001b[0m\u001b[1;33m\u001b[0m\u001b[0m\n\u001b[0m\u001b[0;32m     70\u001b[0m \u001b[1;33m\u001b[0m\u001b[0m\n\u001b[0;32m     71\u001b[0m     \u001b[1;32mreturn\u001b[0m \u001b[0mnew_method\u001b[0m\u001b[1;33m\u001b[0m\u001b[1;33m\u001b[0m\u001b[0m\n",
      "\u001b[1;32mc:\\program files\\python37\\lib\\site-packages\\pandas\\core\\arraylike.py\u001b[0m in \u001b[0;36m__ne__\u001b[1;34m(self, other)\u001b[0m\n\u001b[0;32m     34\u001b[0m     \u001b[1;33m@\u001b[0m\u001b[0munpack_zerodim_and_defer\u001b[0m\u001b[1;33m(\u001b[0m\u001b[1;34m\"__ne__\"\u001b[0m\u001b[1;33m)\u001b[0m\u001b[1;33m\u001b[0m\u001b[1;33m\u001b[0m\u001b[0m\n\u001b[0;32m     35\u001b[0m     \u001b[1;32mdef\u001b[0m \u001b[0m__ne__\u001b[0m\u001b[1;33m(\u001b[0m\u001b[0mself\u001b[0m\u001b[1;33m,\u001b[0m \u001b[0mother\u001b[0m\u001b[1;33m)\u001b[0m\u001b[1;33m:\u001b[0m\u001b[1;33m\u001b[0m\u001b[1;33m\u001b[0m\u001b[0m\n\u001b[1;32m---> 36\u001b[1;33m         \u001b[1;32mreturn\u001b[0m \u001b[0mself\u001b[0m\u001b[1;33m.\u001b[0m\u001b[0m_cmp_method\u001b[0m\u001b[1;33m(\u001b[0m\u001b[0mother\u001b[0m\u001b[1;33m,\u001b[0m \u001b[0moperator\u001b[0m\u001b[1;33m.\u001b[0m\u001b[0mne\u001b[0m\u001b[1;33m)\u001b[0m\u001b[1;33m\u001b[0m\u001b[1;33m\u001b[0m\u001b[0m\n\u001b[0m\u001b[0;32m     37\u001b[0m \u001b[1;33m\u001b[0m\u001b[0m\n\u001b[0;32m     38\u001b[0m     \u001b[1;33m@\u001b[0m\u001b[0munpack_zerodim_and_defer\u001b[0m\u001b[1;33m(\u001b[0m\u001b[1;34m\"__lt__\"\u001b[0m\u001b[1;33m)\u001b[0m\u001b[1;33m\u001b[0m\u001b[1;33m\u001b[0m\u001b[0m\n",
      "\u001b[1;32mc:\\program files\\python37\\lib\\site-packages\\pandas\\core\\series.py\u001b[0m in \u001b[0;36m_cmp_method\u001b[1;34m(self, other, op)\u001b[0m\n\u001b[0;32m   5500\u001b[0m \u001b[1;33m\u001b[0m\u001b[0m\n\u001b[0;32m   5501\u001b[0m         \u001b[1;32mwith\u001b[0m \u001b[0mnp\u001b[0m\u001b[1;33m.\u001b[0m\u001b[0merrstate\u001b[0m\u001b[1;33m(\u001b[0m\u001b[0mall\u001b[0m\u001b[1;33m=\u001b[0m\u001b[1;34m\"ignore\"\u001b[0m\u001b[1;33m)\u001b[0m\u001b[1;33m:\u001b[0m\u001b[1;33m\u001b[0m\u001b[1;33m\u001b[0m\u001b[0m\n\u001b[1;32m-> 5502\u001b[1;33m             \u001b[0mres_values\u001b[0m \u001b[1;33m=\u001b[0m \u001b[0mops\u001b[0m\u001b[1;33m.\u001b[0m\u001b[0mcomparison_op\u001b[0m\u001b[1;33m(\u001b[0m\u001b[0mlvalues\u001b[0m\u001b[1;33m,\u001b[0m \u001b[0mrvalues\u001b[0m\u001b[1;33m,\u001b[0m \u001b[0mop\u001b[0m\u001b[1;33m)\u001b[0m\u001b[1;33m\u001b[0m\u001b[1;33m\u001b[0m\u001b[0m\n\u001b[0m\u001b[0;32m   5503\u001b[0m \u001b[1;33m\u001b[0m\u001b[0m\n\u001b[0;32m   5504\u001b[0m         \u001b[1;32mreturn\u001b[0m \u001b[0mself\u001b[0m\u001b[1;33m.\u001b[0m\u001b[0m_construct_result\u001b[0m\u001b[1;33m(\u001b[0m\u001b[0mres_values\u001b[0m\u001b[1;33m,\u001b[0m \u001b[0mname\u001b[0m\u001b[1;33m=\u001b[0m\u001b[0mres_name\u001b[0m\u001b[1;33m)\u001b[0m\u001b[1;33m\u001b[0m\u001b[1;33m\u001b[0m\u001b[0m\n",
      "\u001b[1;32mc:\\program files\\python37\\lib\\site-packages\\pandas\\core\\ops\\array_ops.py\u001b[0m in \u001b[0;36mcomparison_op\u001b[1;34m(left, right, op)\u001b[0m\n\u001b[0;32m    260\u001b[0m         \u001b[1;32mif\u001b[0m \u001b[0mlen\u001b[0m\u001b[1;33m(\u001b[0m\u001b[0mlvalues\u001b[0m\u001b[1;33m)\u001b[0m \u001b[1;33m!=\u001b[0m \u001b[0mlen\u001b[0m\u001b[1;33m(\u001b[0m\u001b[0mrvalues\u001b[0m\u001b[1;33m)\u001b[0m\u001b[1;33m:\u001b[0m\u001b[1;33m\u001b[0m\u001b[1;33m\u001b[0m\u001b[0m\n\u001b[0;32m    261\u001b[0m             raise ValueError(\n\u001b[1;32m--> 262\u001b[1;33m                 \u001b[1;34m\"Lengths must match to compare\"\u001b[0m\u001b[1;33m,\u001b[0m \u001b[0mlvalues\u001b[0m\u001b[1;33m.\u001b[0m\u001b[0mshape\u001b[0m\u001b[1;33m,\u001b[0m \u001b[0mrvalues\u001b[0m\u001b[1;33m.\u001b[0m\u001b[0mshape\u001b[0m\u001b[1;33m\u001b[0m\u001b[1;33m\u001b[0m\u001b[0m\n\u001b[0m\u001b[0;32m    263\u001b[0m             )\n\u001b[0;32m    264\u001b[0m \u001b[1;33m\u001b[0m\u001b[0m\n",
      "\u001b[1;31mValueError\u001b[0m: ('Lengths must match to compare', (1000,), (2,))"
     ]
    }
   ],
   "source": [
    "# Drop all rows from df_train where label is not 8 or 48\n",
    "index_names = df_train[(df_train['labels'] != 8) & (df_train['labels'] != 48) ].index"
   ]
  },
  {
   "cell_type": "code",
   "execution_count": 34,
   "id": "6bd452a2-81be-4fb6-bf82-9b55ce1fe5a1",
   "metadata": {},
   "outputs": [],
   "source": [
    "df_train.drop(index_names, inplace = True)"
   ]
  },
  {
   "cell_type": "code",
   "execution_count": 51,
   "id": "4ebf6cbd-9cc1-4a61-ab6e-9075bd1da480",
   "metadata": {},
   "outputs": [
    {
     "data": {
      "text/html": [
       "<div>\n",
       "<style scoped>\n",
       "    .dataframe tbody tr th:only-of-type {\n",
       "        vertical-align: middle;\n",
       "    }\n",
       "\n",
       "    .dataframe tbody tr th {\n",
       "        vertical-align: top;\n",
       "    }\n",
       "\n",
       "    .dataframe thead th {\n",
       "        text-align: right;\n",
       "    }\n",
       "</style>\n",
       "<table border=\"1\" class=\"dataframe\">\n",
       "  <thead>\n",
       "    <tr style=\"text-align: right;\">\n",
       "      <th></th>\n",
       "      <th>filenames</th>\n",
       "      <th>labels</th>\n",
       "      <th>row</th>\n",
       "    </tr>\n",
       "  </thead>\n",
       "  <tbody>\n",
       "    <tr>\n",
       "      <th>16</th>\n",
       "      <td>b'bike_s_000682.png'</td>\n",
       "      <td>8</td>\n",
       "      <td>16</td>\n",
       "    </tr>\n",
       "    <tr>\n",
       "      <th>30</th>\n",
       "      <td>b'bike_s_000127.png'</td>\n",
       "      <td>8</td>\n",
       "      <td>30</td>\n",
       "    </tr>\n",
       "    <tr>\n",
       "      <th>130</th>\n",
       "      <td>b'cycle_s_002598.png'</td>\n",
       "      <td>8</td>\n",
       "      <td>130</td>\n",
       "    </tr>\n",
       "    <tr>\n",
       "      <th>152</th>\n",
       "      <td>b'minibike_s_000824.png'</td>\n",
       "      <td>48</td>\n",
       "      <td>152</td>\n",
       "    </tr>\n",
       "    <tr>\n",
       "      <th>195</th>\n",
       "      <td>b'motorcycle_s_001856.png'</td>\n",
       "      <td>48</td>\n",
       "      <td>195</td>\n",
       "    </tr>\n",
       "  </tbody>\n",
       "</table>\n",
       "</div>"
      ],
      "text/plain": [
       "                      filenames  labels  row\n",
       "16         b'bike_s_000682.png'       8   16\n",
       "30         b'bike_s_000127.png'       8   30\n",
       "130       b'cycle_s_002598.png'       8  130\n",
       "152    b'minibike_s_000824.png'      48  152\n",
       "195  b'motorcycle_s_001856.png'      48  195"
      ]
     },
     "execution_count": 51,
     "metadata": {},
     "output_type": "execute_result"
    }
   ],
   "source": [
    "df_train.head()"
   ]
  },
  {
   "cell_type": "code",
   "execution_count": 36,
   "id": "8bea2d60-6193-46b4-a634-6218ee95f9c0",
   "metadata": {},
   "outputs": [],
   "source": [
    "# Decode df_train.filenames so they are regular strings\n",
    "df_train[\"filenames\"] = df_train[\"filenames\"].apply(\n",
    "    lambda x: x.decode(\"utf-8\")\n",
    ")"
   ]
  },
  {
   "cell_type": "code",
   "execution_count": 38,
   "id": "78ef2f9c-45b4-46ca-b236-3cb9c064b58c",
   "metadata": {},
   "outputs": [],
   "source": [
    "df_test = pd.DataFrame({\n",
    "    \"filenames\": dataset_test[b'filenames'],\n",
    "    \"labels\": dataset_test[b'fine_labels'],\n",
    "    \"row\": range(len(dataset_test[b'filenames']))\n",
    "})"
   ]
  },
  {
   "cell_type": "code",
   "execution_count": 39,
   "id": "0b8fd29a-4e18-44a7-bd6e-5c05c398d8d3",
   "metadata": {},
   "outputs": [],
   "source": [
    "test_index_names = df_test[(df_test['labels'] != 8) & (df_test['labels'] != 48) ].index"
   ]
  },
  {
   "cell_type": "code",
   "execution_count": 40,
   "id": "ec8441ca-7161-4f6f-afd6-10ba87f999a9",
   "metadata": {},
   "outputs": [],
   "source": [
    "# Drop all rows from df_test where label is not 8 or 48\n",
    "df_test.drop(test_index_names, inplace = True)"
   ]
  },
  {
   "cell_type": "code",
   "execution_count": 41,
   "id": "14736176-c9d5-4cec-b5da-df2ff63fcd5a",
   "metadata": {},
   "outputs": [],
   "source": [
    "# Decode df_test.filenames so they are regular strings\n",
    "df_test[\"filenames\"] = df_test[\"filenames\"].apply(\n",
    "    lambda x: x.decode(\"utf-8\")\n",
    ")"
   ]
  },
  {
   "cell_type": "code",
   "execution_count": 42,
   "id": "e8d36f77-3bd4-4b9c-a988-182d4adaeb9d",
   "metadata": {},
   "outputs": [
    {
     "data": {
      "text/html": [
       "<div>\n",
       "<style scoped>\n",
       "    .dataframe tbody tr th:only-of-type {\n",
       "        vertical-align: middle;\n",
       "    }\n",
       "\n",
       "    .dataframe tbody tr th {\n",
       "        vertical-align: top;\n",
       "    }\n",
       "\n",
       "    .dataframe thead th {\n",
       "        text-align: right;\n",
       "    }\n",
       "</style>\n",
       "<table border=\"1\" class=\"dataframe\">\n",
       "  <thead>\n",
       "    <tr style=\"text-align: right;\">\n",
       "      <th></th>\n",
       "      <th>filenames</th>\n",
       "      <th>labels</th>\n",
       "      <th>row</th>\n",
       "    </tr>\n",
       "  </thead>\n",
       "  <tbody>\n",
       "    <tr>\n",
       "      <th>27</th>\n",
       "      <td>safety_bike_s_000390.png</td>\n",
       "      <td>8</td>\n",
       "      <td>27</td>\n",
       "    </tr>\n",
       "    <tr>\n",
       "      <th>28</th>\n",
       "      <td>bike_s_000658.png</td>\n",
       "      <td>8</td>\n",
       "      <td>28</td>\n",
       "    </tr>\n",
       "    <tr>\n",
       "      <th>116</th>\n",
       "      <td>velocipede_s_001744.png</td>\n",
       "      <td>8</td>\n",
       "      <td>116</td>\n",
       "    </tr>\n",
       "    <tr>\n",
       "      <th>161</th>\n",
       "      <td>bike_s_000643.png</td>\n",
       "      <td>8</td>\n",
       "      <td>161</td>\n",
       "    </tr>\n",
       "    <tr>\n",
       "      <th>319</th>\n",
       "      <td>ordinary_bicycle_s_000437.png</td>\n",
       "      <td>8</td>\n",
       "      <td>319</td>\n",
       "    </tr>\n",
       "  </tbody>\n",
       "</table>\n",
       "</div>"
      ],
      "text/plain": [
       "                         filenames  labels  row\n",
       "27        safety_bike_s_000390.png       8   27\n",
       "28               bike_s_000658.png       8   28\n",
       "116        velocipede_s_001744.png       8  116\n",
       "161              bike_s_000643.png       8  161\n",
       "319  ordinary_bicycle_s_000437.png       8  319"
      ]
     },
     "execution_count": 42,
     "metadata": {},
     "output_type": "execute_result"
    }
   ],
   "source": [
    "df_test.head()"
   ]
  },
  {
   "cell_type": "markdown",
   "id": "80c29a01-dd42-4838-9bbf-6a3b0e86b871",
   "metadata": {},
   "source": [
    "In the previous sections we introduced you to several key snippets of code:\n",
    "\n",
    "1. Grabbing the image data:\n",
    "\n",
    "```python\n",
    "dataset_train[b'data'][0]\n",
    "```\n",
    "\n",
    "2. A simple idiom for stacking the image data into the right shape\n",
    "\n",
    "```python\n",
    "import numpy as np\n",
    "np.dstack((\n",
    "    row[0:1024].reshape(32,32),\n",
    "    row[1024:2048].reshape(32,32),\n",
    "    row[2048:].reshape(32,32)\n",
    "))\n",
    "```\n",
    "\n",
    "3. A simple `matplotlib` utility for saving images\n",
    "\n",
    "```python\n",
    "plt.imsave(path+row['filenames'], target)\n",
    "```\n",
    "\n",
    "Compose these together into a function that saves all the images into the `./test` and `./train` directories. Use the comments in the body of the `save_images` function below to guide your construction of the function:\n"
   ]
  },
  {
   "cell_type": "code",
   "execution_count": 52,
   "id": "a4506e9f-80c0-495a-8281-4db904473a57",
   "metadata": {
    "tags": []
   },
   "outputs": [],
   "source": [
    "import os.path\n",
    "def save_images():\n",
    "    #Grab the image data in row-major form\n",
    "    row = dataset_train_x[i]\n",
    "    red, green, blue = row[0:1024], row[1024:2048], row[2048:]\n",
    "\n",
    "    # Each 32 items in the channel are a row in the 32x32 image\n",
    "    red = red.reshape(32,32)\n",
    "    green = green.reshape(32,32)\n",
    "    blue = blue.reshape(32,32)\n",
    "\n",
    "    # Combine the channels into a 32x32x3 image!\n",
    "    img = np.dstack((red,green,blue))\n",
    "    # Consolidated stacking/reshaping from earlier\n",
    "    target = dataset_meta[b'fine_label_names'][dataset_train[b'fine_labels'][i]]\n",
    "    \n",
    "    # Save the image\n",
    "    path = os.path(\"train\")\n",
    "    plt.imsave(path+row['filenames'], target)\n",
    "    # Return any signal data you want for debugging\n",
    "    return\n",
    "\n",
    "## TODO: save ALL images using the save_images function"
   ]
  },
  {
   "cell_type": "code",
   "execution_count": 53,
   "id": "ac14aff9-8d0f-41d0-a392-d1401c5266e1",
   "metadata": {
    "tags": []
   },
   "outputs": [
    {
     "ename": "TypeError",
     "evalue": "'module' object is not callable",
     "output_type": "error",
     "traceback": [
      "\u001b[1;31m---------------------------------------------------------------------------\u001b[0m",
      "\u001b[1;31mTypeError\u001b[0m                                 Traceback (most recent call last)",
      "\u001b[1;32m~\\AppData\\Local\\Temp/ipykernel_1360/258365554.py\u001b[0m in \u001b[0;36m<module>\u001b[1;34m\u001b[0m\n\u001b[0;32m      1\u001b[0m \u001b[1;32mfor\u001b[0m \u001b[0mi\u001b[0m \u001b[1;32min\u001b[0m \u001b[0mrange\u001b[0m\u001b[1;33m(\u001b[0m\u001b[1;36m10\u001b[0m\u001b[1;33m)\u001b[0m\u001b[1;33m:\u001b[0m\u001b[1;33m\u001b[0m\u001b[1;33m\u001b[0m\u001b[0m\n\u001b[1;32m----> 2\u001b[1;33m     \u001b[0msave_images\u001b[0m\u001b[1;33m(\u001b[0m\u001b[1;33m)\u001b[0m\u001b[1;33m\u001b[0m\u001b[1;33m\u001b[0m\u001b[0m\n\u001b[0m",
      "\u001b[1;32m~\\AppData\\Local\\Temp/ipykernel_1360/3358468652.py\u001b[0m in \u001b[0;36msave_images\u001b[1;34m()\u001b[0m\n\u001b[0;32m     16\u001b[0m \u001b[1;33m\u001b[0m\u001b[0m\n\u001b[0;32m     17\u001b[0m     \u001b[1;31m# Save the image\u001b[0m\u001b[1;33m\u001b[0m\u001b[1;33m\u001b[0m\u001b[1;33m\u001b[0m\u001b[0m\n\u001b[1;32m---> 18\u001b[1;33m     \u001b[0mpath\u001b[0m \u001b[1;33m=\u001b[0m \u001b[0mos\u001b[0m\u001b[1;33m.\u001b[0m\u001b[0mpath\u001b[0m\u001b[1;33m(\u001b[0m\u001b[1;34m\"train\"\u001b[0m\u001b[1;33m)\u001b[0m\u001b[1;33m\u001b[0m\u001b[1;33m\u001b[0m\u001b[0m\n\u001b[0m\u001b[0;32m     19\u001b[0m     \u001b[0mplt\u001b[0m\u001b[1;33m.\u001b[0m\u001b[0mimsave\u001b[0m\u001b[1;33m(\u001b[0m\u001b[0mpath\u001b[0m\u001b[1;33m+\u001b[0m\u001b[0mrow\u001b[0m\u001b[1;33m[\u001b[0m\u001b[1;34m'filenames'\u001b[0m\u001b[1;33m]\u001b[0m\u001b[1;33m,\u001b[0m \u001b[0mtarget\u001b[0m\u001b[1;33m)\u001b[0m\u001b[1;33m\u001b[0m\u001b[1;33m\u001b[0m\u001b[0m\n\u001b[0;32m     20\u001b[0m     \u001b[1;31m# Return any signal data you want for debugging\u001b[0m\u001b[1;33m\u001b[0m\u001b[1;33m\u001b[0m\u001b[1;33m\u001b[0m\u001b[0m\n",
      "\u001b[1;31mTypeError\u001b[0m: 'module' object is not callable"
     ]
    }
   ],
   "source": [
    "for i in range(10):\n",
    "    save_images()"
   ]
  },
  {
   "cell_type": "code",
   "execution_count": 6,
   "id": "444be5a0-0cf6-4bb6-b185-0d14b861fc6f",
   "metadata": {},
   "outputs": [
    {
     "ename": "TypeError",
     "evalue": "list indices must be integers or slices, not list",
     "output_type": "error",
     "traceback": [
      "\u001b[1;31m---------------------------------------------------------------------------\u001b[0m",
      "\u001b[1;31mTypeError\u001b[0m                                 Traceback (most recent call last)",
      "\u001b[1;32m~\\AppData\\Local\\Temp/ipykernel_1360/2215938872.py\u001b[0m in \u001b[0;36m<module>\u001b[1;34m\u001b[0m\n\u001b[0;32m      1\u001b[0m \u001b[0mdataset_train_x\u001b[0m \u001b[1;33m=\u001b[0m \u001b[0mdataset_train\u001b[0m\u001b[1;33m[\u001b[0m\u001b[1;34mb'data'\u001b[0m\u001b[1;33m]\u001b[0m\u001b[1;33m\u001b[0m\u001b[1;33m\u001b[0m\u001b[0m\n\u001b[1;32m----> 2\u001b[1;33m \u001b[0mdata_train_x\u001b[0m \u001b[1;33m=\u001b[0m \u001b[0mdataset_meta\u001b[0m\u001b[1;33m[\u001b[0m\u001b[1;34mb'fine_label_names'\u001b[0m\u001b[1;33m]\u001b[0m\u001b[1;33m[\u001b[0m\u001b[0mdataset_train\u001b[0m\u001b[1;33m[\u001b[0m\u001b[1;34mb'fine_labels'\u001b[0m\u001b[1;33m]\u001b[0m\u001b[1;33m]\u001b[0m\u001b[1;33m\u001b[0m\u001b[1;33m\u001b[0m\u001b[0m\n\u001b[0m",
      "\u001b[1;31mTypeError\u001b[0m: list indices must be integers or slices, not list"
     ]
    }
   ],
   "source": [
    "dataset_train_x = dataset_train[b'data']\n",
    "data_train_x = dataset_meta[b'fine_label_names'][dataset_train[b'fine_labels'][n]]"
   ]
  },
  {
   "cell_type": "code",
   "execution_count": 14,
   "id": "c290fd7d-08d3-4f70-bcfa-5e44cc2e77cf",
   "metadata": {
    "tags": []
   },
   "outputs": [
    {
     "ename": "SyntaxError",
     "evalue": "invalid syntax (Temp/ipykernel_6848/4077246391.py, line 2)",
     "output_type": "error",
     "traceback": [
      "\u001b[1;36m  File \u001b[1;32m\"C:\\Users\\htina\\AppData\\Local\\Temp/ipykernel_6848/4077246391.py\"\u001b[1;36m, line \u001b[1;32m2\u001b[0m\n\u001b[1;33m    row = i++\u001b[0m\n\u001b[1;37m             ^\u001b[0m\n\u001b[1;31mSyntaxError\u001b[0m\u001b[1;31m:\u001b[0m invalid syntax\n"
     ]
    }
   ],
   "source": [
    "for i in dataset_train_x:\n",
    "    row = i\n",
    "    \"\"\"red, green, blue = row[0:1024], row[1024:2048], row[2048:]\n",
    "    red = red.reshape(32,32)\n",
    "    green = green.reshape(32,32)\n",
    "    blue = blue.reshape(32,32)\n",
    "    #Grab the image data in row-major form\n",
    "    img = np.dstack((red,green,blue))\"\"\""
   ]
  },
  {
   "cell_type": "code",
   "execution_count": 13,
   "id": "1053d732-b327-4d43-8333-172ec4ad2d9d",
   "metadata": {},
   "outputs": [
    {
     "data": {
      "text/plain": [
       "(3072,)"
      ]
     },
     "execution_count": 13,
     "metadata": {},
     "output_type": "execute_result"
    }
   ],
   "source": [
    "row.shape"
   ]
  },
  {
   "cell_type": "code",
   "execution_count": 11,
   "id": "21d96292-a123-48fe-a54b-11640c27e556",
   "metadata": {},
   "outputs": [
    {
     "data": {
      "text/plain": [
       "<matplotlib.image.AxesImage at 0x299318e2d08>"
      ]
     },
     "execution_count": 11,
     "metadata": {},
     "output_type": "execute_result"
    },
    {
     "data": {
      "image/png": "[encoded data removed]",
      "text/plain": [
       "<Figure size 432x288 with 1 Axes>"
      ]
     },
     "metadata": {
      "needs_background": "light"
     },
     "output_type": "display_data"
    }
   ],
   "source": [
    "data = dataset_train_x[ 0, :] # get a row data\n",
    "data = np.reshape(data, (32,32,3), order='F' ) # Fortran-like indexing order\n",
    "plt.imshow(data)"
   ]
  },
  {
   "cell_type": "code",
   "execution_count": null,
   "id": "1d88eda2-531f-468c-97ba-ede7e49739c9",
   "metadata": {},
   "outputs": [],
   "source": []
  },
  {
   "cell_type": "code",
   "execution_count": null,
   "id": "18df47e9-680b-4657-a03d-06234a2a266e",
   "metadata": {},
   "outputs": [],
   "source": []
  },
  {
   "cell_type": "code",
   "execution_count": 84,
   "id": "9dc2c400-6368-4a6f-ac3d-478a480c111a",
   "metadata": {},
   "outputs": [],
   "source": [
    "dataset_train_x=dataset_train_x.reshape(-1,3,32,32)"
   ]
  },
  {
   "cell_type": "code",
   "execution_count": 85,
   "id": "fea5d895-c400-4f04-b8fc-deec78fdcb91",
   "metadata": {},
   "outputs": [
    {
     "data": {
      "text/plain": [
       "array([[[[255, 255, 255, ..., 195, 212, 182],\n",
       "         [255, 254, 254, ..., 170, 161, 146],\n",
       "         [255, 254, 255, ..., 189, 166, 121],\n",
       "         ...,\n",
       "         [148, 142, 140, ...,  30,  65,  76],\n",
       "         [122, 120, 126, ...,  22,  97, 141],\n",
       "         [ 87,  88, 101, ...,  34, 105, 138]],\n",
       "\n",
       "        [[255, 255, 255, ..., 205, 224, 194],\n",
       "         [255, 254, 254, ..., 176, 168, 154],\n",
       "         [255, 254, 255, ..., 199, 178, 133],\n",
       "         ...,\n",
       "         [185, 182, 179, ...,  17,  62,  77],\n",
       "         [157, 155, 160, ...,  16, 112, 161],\n",
       "         [122, 122, 134, ...,  36, 133, 173]],\n",
       "\n",
       "        [[255, 255, 255, ..., 193, 204, 167],\n",
       "         [255, 254, 254, ..., 150, 130, 113],\n",
       "         [255, 254, 255, ..., 169, 130,  87],\n",
       "         ...,\n",
       "         [ 79,  57,  60, ...,   1,  15,  20],\n",
       "         [ 66,  58,  71, ...,   3,  56,  87],\n",
       "         [ 41,  39,  56, ...,  10,  59,  79]]],\n",
       "\n",
       "\n",
       "       [[[255, 253, 253, ..., 253, 253, 255],\n",
       "         [255, 255, 255, ..., 255, 255, 255],\n",
       "         [255, 255, 255, ..., 255, 255, 255],\n",
       "         ...,\n",
       "         [255, 255, 255, ..., 255, 255, 255],\n",
       "         [255, 255, 255, ..., 255, 255, 255],\n",
       "         [255, 253, 253, ..., 253, 253, 255]],\n",
       "\n",
       "        [[255, 253, 253, ..., 253, 253, 255],\n",
       "         [255, 255, 255, ..., 255, 255, 255],\n",
       "         [255, 255, 255, ..., 255, 255, 255],\n",
       "         ...,\n",
       "         [255, 255, 255, ..., 255, 255, 255],\n",
       "         [255, 255, 255, ..., 255, 255, 255],\n",
       "         [255, 253, 253, ..., 253, 253, 255]],\n",
       "\n",
       "        [[255, 253, 253, ..., 253, 253, 255],\n",
       "         [255, 255, 255, ..., 255, 255, 255],\n",
       "         [255, 255, 255, ..., 255, 255, 255],\n",
       "         ...,\n",
       "         [255, 255, 255, ..., 255, 255, 255],\n",
       "         [255, 255, 255, ..., 255, 255, 255],\n",
       "         [255, 253, 253, ..., 253, 253, 255]]],\n",
       "\n",
       "\n",
       "       [[[250, 248, 247, ..., 250, 250, 249],\n",
       "         [250, 248, 247, ..., 251, 251, 250],\n",
       "         [251, 250, 250, ..., 250, 250, 250],\n",
       "         ...,\n",
       "         [221, 221, 225, ..., 199, 207, 233],\n",
       "         [225, 227, 229, ..., 204, 212, 234],\n",
       "         [233, 234, 235, ..., 219, 223, 232]],\n",
       "\n",
       "        [[250, 249, 248, ..., 250, 250, 250],\n",
       "         [251, 249, 247, ..., 251, 252, 251],\n",
       "         [251, 248, 245, ..., 249, 249, 249],\n",
       "         ...,\n",
       "         [213, 206, 207, ..., 176, 193, 229],\n",
       "         [223, 219, 216, ..., 185, 201, 232],\n",
       "         [233, 232, 230, ..., 209, 216, 230]],\n",
       "\n",
       "        [[248, 243, 239, ..., 246, 246, 246],\n",
       "         [245, 238, 234, ..., 242, 243, 243],\n",
       "         [244, 237, 233, ..., 238, 240, 242],\n",
       "         ...,\n",
       "         [191, 176, 181, ..., 134, 165, 226],\n",
       "         [204, 196, 200, ..., 151, 180, 228],\n",
       "         [226, 224, 225, ..., 194, 207, 228]]],\n",
       "\n",
       "\n",
       "       ...,\n",
       "\n",
       "\n",
       "       [[[248, 240, 236, ..., 233, 230, 238],\n",
       "         [225, 186, 175, ..., 163, 156, 192],\n",
       "         [209, 144, 139, ..., 109, 109, 157],\n",
       "         ...,\n",
       "         [161,  39,  28, ...,  93,  85, 136],\n",
       "         [181,  86,  71, ..., 122, 105, 151],\n",
       "         [224, 180, 173, ..., 196, 183, 204]],\n",
       "\n",
       "        [[244, 232, 232, ..., 229, 228, 237],\n",
       "         [213, 167, 159, ..., 148, 144, 184],\n",
       "         [194, 120, 115, ...,  86,  90, 145],\n",
       "         ...,\n",
       "         [159,  34,  20, ...,  72,  67, 126],\n",
       "         [179,  83,  68, ..., 103,  92, 145],\n",
       "         [223, 180, 172, ..., 187, 178, 205]],\n",
       "\n",
       "        [[242, 223, 223, ..., 222, 222, 233],\n",
       "         [204, 149, 140, ..., 134, 133, 176],\n",
       "         [179,  95,  87, ...,  67,  76, 135],\n",
       "         ...,\n",
       "         [153,  28,  14, ...,  53,  50, 115],\n",
       "         [172,  77,  62, ...,  89,  82, 141],\n",
       "         [218, 175, 167, ..., 180, 174, 205]]],\n",
       "\n",
       "\n",
       "       [[[156, 151, 151, ..., 155, 152, 186],\n",
       "         [110, 116, 114, ..., 116, 111, 134],\n",
       "         [116, 124, 128, ...,  99, 101, 129],\n",
       "         ...,\n",
       "         [109, 112, 118, ..., 126, 126, 138],\n",
       "         [ 98,  93,  96, ..., 112, 109, 127],\n",
       "         [170, 160, 163, ..., 161, 156, 163]],\n",
       "\n",
       "        [[154, 146, 144, ..., 150, 148, 184],\n",
       "         [106, 108, 101, ..., 106, 103, 129],\n",
       "         [112, 118, 118, ...,  84,  87, 118],\n",
       "         ...,\n",
       "         [101, 100, 105, ..., 113, 111, 124],\n",
       "         [ 92,  82,  83, ...,  96,  92, 113],\n",
       "         [167, 153, 152, ..., 151, 144, 154]],\n",
       "\n",
       "        [[137, 123, 125, ..., 129, 125, 163],\n",
       "         [ 77,  62,  57, ...,  61,  56,  92],\n",
       "         [ 82,  66,  67, ...,  43,  43,  86],\n",
       "         ...,\n",
       "         [ 74,  54,  62, ...,  65,  61,  89],\n",
       "         [ 63,  35,  38, ...,  47,  45,  80],\n",
       "         [145, 118, 119, ..., 114, 107, 126]]],\n",
       "\n",
       "\n",
       "       [[[ 31,  30,  31, ...,  32,  32,  32],\n",
       "         [ 29,  28,  30, ...,  32,  32,  31],\n",
       "         [ 30,  29,  30, ...,  32,  31,  30],\n",
       "         ...,\n",
       "         [ 39,  38,  38, ...,  39,  38,  39],\n",
       "         [ 40,  39,  39, ...,  39,  40,  40],\n",
       "         [ 40,  40,  40, ...,  41,  39,  40]],\n",
       "\n",
       "        [[ 67,  68,  69, ...,  70,  70,  69],\n",
       "         [ 68,  69,  69, ...,  70,  69,  69],\n",
       "         [ 67,  68,  69, ...,  72,  70,  69],\n",
       "         ...,\n",
       "         [ 41,  42,  44, ...,  44,  42,  41],\n",
       "         [ 39,  40,  41, ...,  41,  41,  39],\n",
       "         [ 39,  39,  39, ...,  38,  38,  37]],\n",
       "\n",
       "        [[122, 124, 126, ..., 129, 125, 122],\n",
       "         [126, 128, 130, ..., 131, 127, 124],\n",
       "         [126, 128, 130, ..., 132, 130, 127],\n",
       "         ...,\n",
       "         [ 76,  76,  78, ...,  79,  77,  76],\n",
       "         [ 73,  74,  76, ...,  76,  74,  73],\n",
       "         [ 70,  71,  72, ...,  72,  69,  67]]]], dtype=uint8)"
      ]
     },
     "execution_count": 85,
     "metadata": {},
     "output_type": "execute_result"
    }
   ],
   "source": [
    "dataset_train_x"
   ]
  },
  {
   "cell_type": "code",
   "execution_count": null,
   "id": "83257b3c-f02c-436d-9106-06319780ca6d",
   "metadata": {},
   "outputs": [],
   "source": [
    "import numpy as np\n",
    "\n",
    "# Each 1024 in a row is a channel (red, green, then blue)\n",
    "row = dataset_train[b'data'][8]\n",
    "red, green, blue = row[0:1024], row[1024:2048], row[2048:]\n",
    "\n",
    "# Each 32 items in the channel are a row in the 32x32 image\n",
    "red = red.reshape(32,32)\n",
    "green = green.reshape(32,32)\n",
    "blue = blue.reshape(32,32)\n",
    "\n",
    "# Combine the channels into a 32x32x3 image!\n",
    "combined = np.dstack((red,green,blue))"
   ]
  },
  {
   "cell_type": "code",
   "execution_count": null,
   "id": "4d789980-89ca-4685-868f-838a09a1c2ad",
   "metadata": {},
   "outputs": [],
   "source": [
    "plt.imsave(\"file.png\", test_image)"
   ]
  },
  {
   "cell_type": "code",
   "execution_count": 62,
   "id": "4577602e-8ba4-47c7-b24a-cc41ea8405dc",
   "metadata": {},
   "outputs": [
    {
     "ename": "NameError",
     "evalue": "name 'test_image' is not defined",
     "output_type": "error",
     "traceback": [
      "\u001b[1;31m---------------------------------------------------------------------------\u001b[0m",
      "\u001b[1;31mNameError\u001b[0m                                 Traceback (most recent call last)",
      "\u001b[1;32m~\\AppData\\Local\\Temp/ipykernel_15208/2275631740.py\u001b[0m in \u001b[0;36m<module>\u001b[1;34m\u001b[0m\n\u001b[0;32m      1\u001b[0m \u001b[1;32mimport\u001b[0m \u001b[0mmatplotlib\u001b[0m\u001b[1;33m.\u001b[0m\u001b[0mpyplot\u001b[0m \u001b[1;32mas\u001b[0m \u001b[0mplt\u001b[0m\u001b[1;33m\u001b[0m\u001b[1;33m\u001b[0m\u001b[0m\n\u001b[1;32m----> 2\u001b[1;33m \u001b[0mplt\u001b[0m\u001b[1;33m.\u001b[0m\u001b[0mimshow\u001b[0m\u001b[1;33m(\u001b[0m\u001b[0mtest_image\u001b[0m\u001b[1;33m)\u001b[0m\u001b[1;33m;\u001b[0m\u001b[1;33m\u001b[0m\u001b[1;33m\u001b[0m\u001b[0m\n\u001b[0m",
      "\u001b[1;31mNameError\u001b[0m: name 'test_image' is not defined"
     ]
    }
   ],
   "source": [
    "import matplotlib.pyplot as plt\n",
    "plt.imshow(test_image);"
   ]
  }
 ],
 "metadata": {
  "kernelspec": {
   "display_name": "Python 3 (ipykernel)",
   "language": "python",
   "name": "python3"
  },
  "language_info": {
   "codemirror_mode": {
    "name": "ipython",
    "version": 3
   },
   "file_extension": ".py",
   "mimetype": "text/x-python",
   "name": "python",
   "nbconvert_exporter": "python",
   "pygments_lexer": "ipython3",
   "version": "3.7.9"
  }
 },
 "nbformat": 4,
 "nbformat_minor": 5
}
