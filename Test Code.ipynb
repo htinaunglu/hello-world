{
 "cells": [
  {
   "cell_type": "code",
   "execution_count": null,
   "id": "b5520b67-730e-477b-b1d2-c9b22b5c723c",
   "metadata": {},
   "outputs": [],
   "source": [
    "import requests\n",
    "\n",
    "def extract_cifar_data(url, filename=\"cifar.tar.gz\"):\n",
    "    r = requests.get(url)\n",
    "    with open(filename, \"wb\") as file_context:\n",
    "        file_context.write(r.content)\n",
    "    return"
   ]
  },
  {
   "cell_type": "code",
   "execution_count": null,
   "id": "2a7695df-0560-49cc-8e9f-77ae1444a442",
   "metadata": {},
   "outputs": [],
   "source": [
    "extract_cifar_data(\"https://www.cs.toronto.edu/~kriz/cifar-100-python.tar.gz\")"
   ]
  },
  {
   "cell_type": "code",
   "execution_count": null,
   "id": "535f9987-8756-4f40-aaf2-cfc8d2cae569",
   "metadata": {},
   "outputs": [],
   "source": [
    "import tarfile\n",
    "\n",
    "with tarfile.open(\"cifar.tar.gz\", \"r:gz\") as tar:\n",
    "    tar.extractall()"
   ]
  },
  {
   "cell_type": "code",
   "execution_count": 3,
   "id": "4b846fe7-92d5-4822-87f5-96e548b29d6b",
   "metadata": {},
   "outputs": [],
   "source": [
    "import pickle\n",
    "\n",
    "with open(\"./cifar-100-python/meta\", \"rb\") as f:\n",
    "    dataset_meta = pickle.load(f, encoding='bytes')\n",
    "\n",
    "with open(\"./cifar-100-python/test\", \"rb\") as f:\n",
    "    dataset_test = pickle.load(f, encoding='bytes')\n",
    "\n",
    "with open(\"./cifar-100-python/train\", \"rb\") as f:\n",
    "    dataset_train = pickle.load(f, encoding='bytes')"
   ]
  },
  {
   "cell_type": "code",
   "execution_count": 33,
   "id": "677cad0b-fe20-4bfa-81c9-f928f0f94a85",
   "metadata": {},
   "outputs": [],
   "source": [
    "import pandas as pd\n",
    "import numpy as np\n",
    "import matplotlib.pyplot as plt\n",
    "dataset_train.keys()\n",
    "import os"
   ]
  },
  {
   "cell_type": "markdown",
   "id": "26943e44-b1bc-414e-851e-c5297c965368",
   "metadata": {},
   "source": [
    "## DataFrame Creation part *(not affect the current problem)*"
   ]
  },
  {
   "cell_type": "code",
   "execution_count": 73,
   "id": "c6983e95-6b74-45c7-811a-66dd6f39de4f",
   "metadata": {},
   "outputs": [],
   "source": [
    "#Construct the dataframe\n",
    "df_train = pd.DataFrame({\n",
    "    \"filenames\": dataset_train[b'filenames'],\n",
    "    \"labels\": dataset_train[b'fine_labels'],\n",
    "    \"row\": range(len(dataset_train[b'filenames']))\n",
    "})"
   ]
  },
  {
   "cell_type": "code",
   "execution_count": 74,
   "id": "3a5c3030-ae0b-4e6e-87a8-d85d5eca0610",
   "metadata": {
    "tags": []
   },
   "outputs": [
    {
     "data": {
      "text/html": [
       "<div>\n",
       "<style scoped>\n",
       "    .dataframe tbody tr th:only-of-type {\n",
       "        vertical-align: middle;\n",
       "    }\n",
       "\n",
       "    .dataframe tbody tr th {\n",
       "        vertical-align: top;\n",
       "    }\n",
       "\n",
       "    .dataframe thead th {\n",
       "        text-align: right;\n",
       "    }\n",
       "</style>\n",
       "<table border=\"1\" class=\"dataframe\">\n",
       "  <thead>\n",
       "    <tr style=\"text-align: right;\">\n",
       "      <th></th>\n",
       "      <th>filenames</th>\n",
       "      <th>labels</th>\n",
       "      <th>row</th>\n",
       "    </tr>\n",
       "  </thead>\n",
       "  <tbody>\n",
       "    <tr>\n",
       "      <th>0</th>\n",
       "      <td>b'bos_taurus_s_000507.png'</td>\n",
       "      <td>19</td>\n",
       "      <td>0</td>\n",
       "    </tr>\n",
       "    <tr>\n",
       "      <th>1</th>\n",
       "      <td>b'stegosaurus_s_000125.png'</td>\n",
       "      <td>29</td>\n",
       "      <td>1</td>\n",
       "    </tr>\n",
       "    <tr>\n",
       "      <th>2</th>\n",
       "      <td>b'mcintosh_s_000643.png'</td>\n",
       "      <td>0</td>\n",
       "      <td>2</td>\n",
       "    </tr>\n",
       "    <tr>\n",
       "      <th>3</th>\n",
       "      <td>b'altar_boy_s_001435.png'</td>\n",
       "      <td>11</td>\n",
       "      <td>3</td>\n",
       "    </tr>\n",
       "    <tr>\n",
       "      <th>4</th>\n",
       "      <td>b'cichlid_s_000031.png'</td>\n",
       "      <td>1</td>\n",
       "      <td>4</td>\n",
       "    </tr>\n",
       "  </tbody>\n",
       "</table>\n",
       "</div>"
      ],
      "text/plain": [
       "                     filenames  labels  row\n",
       "0   b'bos_taurus_s_000507.png'      19    0\n",
       "1  b'stegosaurus_s_000125.png'      29    1\n",
       "2     b'mcintosh_s_000643.png'       0    2\n",
       "3    b'altar_boy_s_001435.png'      11    3\n",
       "4      b'cichlid_s_000031.png'       1    4"
      ]
     },
     "execution_count": 74,
     "metadata": {},
     "output_type": "execute_result"
    }
   ],
   "source": [
    "df_train.head()"
   ]
  },
  {
   "cell_type": "code",
   "execution_count": 75,
   "id": "35cb6d9a-094e-457a-b656-ac5781cd82ee",
   "metadata": {},
   "outputs": [],
   "source": [
    "#creating a drop function for labels which are not 8 or 48\n",
    "def unnesdrop(df):\n",
    "    index_names = df[(df['labels'] !=8) & (df['labels'] !=48)].index\n",
    "    df.drop(index_names, inplace = True)\n",
    "    return\n",
    "    "
   ]
  },
  {
   "cell_type": "code",
   "execution_count": 76,
   "id": "b6a5a55b-cc0c-4c26-9c5d-ca042a670b46",
   "metadata": {},
   "outputs": [],
   "source": [
    "unnesdrop(df_train)"
   ]
  },
  {
   "cell_type": "code",
   "execution_count": 77,
   "id": "4ebf6cbd-9cc1-4a61-ab6e-9075bd1da480",
   "metadata": {
    "tags": []
   },
   "outputs": [
    {
     "data": {
      "text/html": [
       "<div>\n",
       "<style scoped>\n",
       "    .dataframe tbody tr th:only-of-type {\n",
       "        vertical-align: middle;\n",
       "    }\n",
       "\n",
       "    .dataframe tbody tr th {\n",
       "        vertical-align: top;\n",
       "    }\n",
       "\n",
       "    .dataframe thead th {\n",
       "        text-align: right;\n",
       "    }\n",
       "</style>\n",
       "<table border=\"1\" class=\"dataframe\">\n",
       "  <thead>\n",
       "    <tr style=\"text-align: right;\">\n",
       "      <th></th>\n",
       "      <th>filenames</th>\n",
       "      <th>labels</th>\n",
       "      <th>row</th>\n",
       "    </tr>\n",
       "  </thead>\n",
       "  <tbody>\n",
       "    <tr>\n",
       "      <th>16</th>\n",
       "      <td>b'bike_s_000682.png'</td>\n",
       "      <td>8</td>\n",
       "      <td>16</td>\n",
       "    </tr>\n",
       "    <tr>\n",
       "      <th>30</th>\n",
       "      <td>b'bike_s_000127.png'</td>\n",
       "      <td>8</td>\n",
       "      <td>30</td>\n",
       "    </tr>\n",
       "    <tr>\n",
       "      <th>130</th>\n",
       "      <td>b'cycle_s_002598.png'</td>\n",
       "      <td>8</td>\n",
       "      <td>130</td>\n",
       "    </tr>\n",
       "    <tr>\n",
       "      <th>152</th>\n",
       "      <td>b'minibike_s_000824.png'</td>\n",
       "      <td>48</td>\n",
       "      <td>152</td>\n",
       "    </tr>\n",
       "    <tr>\n",
       "      <th>195</th>\n",
       "      <td>b'motorcycle_s_001856.png'</td>\n",
       "      <td>48</td>\n",
       "      <td>195</td>\n",
       "    </tr>\n",
       "  </tbody>\n",
       "</table>\n",
       "</div>"
      ],
      "text/plain": [
       "                      filenames  labels  row\n",
       "16         b'bike_s_000682.png'       8   16\n",
       "30         b'bike_s_000127.png'       8   30\n",
       "130       b'cycle_s_002598.png'       8  130\n",
       "152    b'minibike_s_000824.png'      48  152\n",
       "195  b'motorcycle_s_001856.png'      48  195"
      ]
     },
     "execution_count": 77,
     "metadata": {},
     "output_type": "execute_result"
    }
   ],
   "source": [
    "df_train.head()"
   ]
  },
  {
   "cell_type": "code",
   "execution_count": 36,
   "id": "8bea2d60-6193-46b4-a634-6218ee95f9c0",
   "metadata": {
    "tags": []
   },
   "outputs": [],
   "source": [
    "# Decode df_train.filenames so they are regular strings\n",
    "df_train[\"filenames\"] = df_train[\"filenames\"].apply(\n",
    "    lambda x: x.decode(\"utf-8\")\n",
    ")"
   ]
  },
  {
   "cell_type": "code",
   "execution_count": 38,
   "id": "78ef2f9c-45b4-46ca-b236-3cb9c064b58c",
   "metadata": {
    "tags": []
   },
   "outputs": [],
   "source": [
    "df_test = pd.DataFrame({\n",
    "    \"filenames\": dataset_test[b'filenames'],\n",
    "    \"labels\": dataset_test[b'fine_labels'],\n",
    "    \"row\": range(len(dataset_test[b'filenames']))\n",
    "})"
   ]
  },
  {
   "cell_type": "code",
   "execution_count": 39,
   "id": "0b8fd29a-4e18-44a7-bd6e-5c05c398d8d3",
   "metadata": {
    "tags": []
   },
   "outputs": [],
   "source": [
    "test_index_names = df_test[(df_test['labels'] != 8) & (df_test['labels'] != 48) ].index"
   ]
  },
  {
   "cell_type": "code",
   "execution_count": 40,
   "id": "ec8441ca-7161-4f6f-afd6-10ba87f999a9",
   "metadata": {},
   "outputs": [],
   "source": [
    "# Drop all rows from df_test where label is not 8 or 48\n",
    "df_test.drop(test_index_names, inplace = True)"
   ]
  },
  {
   "cell_type": "code",
   "execution_count": 41,
   "id": "14736176-c9d5-4cec-b5da-df2ff63fcd5a",
   "metadata": {},
   "outputs": [],
   "source": [
    "# Decode df_test.filenames so they are regular strings\n",
    "df_test[\"filenames\"] = df_test[\"filenames\"].apply(\n",
    "    lambda x: x.decode(\"utf-8\")\n",
    ")"
   ]
  },
  {
   "cell_type": "code",
   "execution_count": 42,
   "id": "e8d36f77-3bd4-4b9c-a988-182d4adaeb9d",
   "metadata": {
    "tags": []
   },
   "outputs": [
    {
     "data": {
      "text/html": [
       "<div>\n",
       "<style scoped>\n",
       "    .dataframe tbody tr th:only-of-type {\n",
       "        vertical-align: middle;\n",
       "    }\n",
       "\n",
       "    .dataframe tbody tr th {\n",
       "        vertical-align: top;\n",
       "    }\n",
       "\n",
       "    .dataframe thead th {\n",
       "        text-align: right;\n",
       "    }\n",
       "</style>\n",
       "<table border=\"1\" class=\"dataframe\">\n",
       "  <thead>\n",
       "    <tr style=\"text-align: right;\">\n",
       "      <th></th>\n",
       "      <th>filenames</th>\n",
       "      <th>labels</th>\n",
       "      <th>row</th>\n",
       "    </tr>\n",
       "  </thead>\n",
       "  <tbody>\n",
       "    <tr>\n",
       "      <th>27</th>\n",
       "      <td>safety_bike_s_000390.png</td>\n",
       "      <td>8</td>\n",
       "      <td>27</td>\n",
       "    </tr>\n",
       "    <tr>\n",
       "      <th>28</th>\n",
       "      <td>bike_s_000658.png</td>\n",
       "      <td>8</td>\n",
       "      <td>28</td>\n",
       "    </tr>\n",
       "    <tr>\n",
       "      <th>116</th>\n",
       "      <td>velocipede_s_001744.png</td>\n",
       "      <td>8</td>\n",
       "      <td>116</td>\n",
       "    </tr>\n",
       "    <tr>\n",
       "      <th>161</th>\n",
       "      <td>bike_s_000643.png</td>\n",
       "      <td>8</td>\n",
       "      <td>161</td>\n",
       "    </tr>\n",
       "    <tr>\n",
       "      <th>319</th>\n",
       "      <td>ordinary_bicycle_s_000437.png</td>\n",
       "      <td>8</td>\n",
       "      <td>319</td>\n",
       "    </tr>\n",
       "  </tbody>\n",
       "</table>\n",
       "</div>"
      ],
      "text/plain": [
       "                         filenames  labels  row\n",
       "27        safety_bike_s_000390.png       8   27\n",
       "28               bike_s_000658.png       8   28\n",
       "116        velocipede_s_001744.png       8  116\n",
       "161              bike_s_000643.png       8  161\n",
       "319  ordinary_bicycle_s_000437.png       8  319"
      ]
     },
     "execution_count": 42,
     "metadata": {},
     "output_type": "execute_result"
    }
   ],
   "source": [
    "df_test.head()"
   ]
  },
  {
   "cell_type": "markdown",
   "id": "f82569a8-1ec9-4395-8316-6905e1feddcf",
   "metadata": {},
   "source": [
    "## Problem Starts Here\n",
    "**Reshaping the Image data and output each image with corresponding file names**"
   ]
  },
  {
   "cell_type": "code",
   "execution_count": 65,
   "id": "154868bc-a188-4635-80c4-71bf1360ae8d",
   "metadata": {},
   "outputs": [],
   "source": [
    "dataset_train_x = dataset_train[b'data']"
   ]
  },
  {
   "cell_type": "code",
   "execution_count": 94,
   "id": "a4506e9f-80c0-495a-8281-4db904473a57",
   "metadata": {
    "tags": []
   },
   "outputs": [],
   "source": [
    "import os.path\n",
    "def save_images():\n",
    "    #Grab the image data in row-major form\n",
    "    row = dataset_train_x[i]\n",
    "    red, green, blue = row[0:1024], row[1024:2048], row[2048:]\n",
    "\n",
    "    # Each 32 items in the channel are a row in the 32x32 image\n",
    "    red = red.reshape(32,32)\n",
    "    green = green.reshape(32,32)\n",
    "    blue = blue.reshape(32,32)\n",
    "\n",
    "    # Combine the channels into a 32x32x3 image!\n",
    "    img = np.dstack((red,green,blue))\n",
    "    \n",
    "    #target = dataset_meta[b'fine_label_names'][dataset_train[b'fine_labels'][i]]\n",
    "    target = dataset_train[b'filenames'][i]\n",
    "    # Save the image\n",
    "    path = os.path.join(\"train/\")\n",
    "    #plt.imsave(path+target.decode()+\".png\", img)\n",
    "    plt.imsave(path+target.decode(), img)\n",
    "    return"
   ]
  },
  {
   "cell_type": "code",
   "execution_count": 95,
   "id": "ac14aff9-8d0f-41d0-a392-d1401c5266e1",
   "metadata": {
    "tags": []
   },
   "outputs": [],
   "source": [
    "for i in range(49999):\n",
    "    save_images()"
   ]
  },
  {
   "cell_type": "markdown",
   "id": "39c50dd0-f3ef-4dea-8c02-a0ff0c823047",
   "metadata": {},
   "source": [
    "## for only one of each image"
   ]
  },
  {
   "cell_type": "code",
   "execution_count": 89,
   "id": "1d88eda2-531f-468c-97ba-ede7e49739c9",
   "metadata": {},
   "outputs": [
    {
     "data": {
      "image/png": "[encoded data removed]",
      "text/plain": [
       "<Figure size 432x288 with 1 Axes>"
      ]
     },
     "metadata": {
      "needs_background": "light"
     },
     "output_type": "display_data"
    }
   ],
   "source": [
    "row = dataset_train_x[8685]\n",
    "red, green, blue = row[0:1024], row[1024:2048], row[2048:]\n",
    "    \n",
    "red = red.reshape(32,32)\n",
    "green = green.reshape(32,32)\n",
    "blue = blue.reshape(32,32)\n",
    "    \n",
    "img = np.dstack((red,green,blue))\n",
    "plt.imshow(img);"
   ]
  },
  {
   "cell_type": "code",
   "execution_count": 88,
   "id": "18df47e9-680b-4657-a03d-06234a2a266e",
   "metadata": {},
   "outputs": [
    {
     "name": "stdout",
     "output_type": "stream",
     "text": [
      "b'chair'\n"
     ]
    }
   ],
   "source": [
    "# image name \n",
    "n = 8685\n",
    "print(dataset_meta[b'fine_label_names'][dataset_train[b'fine_labels'][n]])\n",
    "#plt.imsave(\"cattle.png\", img)"
   ]
  }
 ],
 "metadata": {
  "kernelspec": {
   "display_name": "Python 3 (ipykernel)",
   "language": "python",
   "name": "python3"
  },
  "language_info": {
   "codemirror_mode": {
    "name": "ipython",
    "version": 3
   },
   "file_extension": ".py",
   "mimetype": "text/x-python",
   "name": "python",
   "nbconvert_exporter": "python",
   "pygments_lexer": "ipython3",
   "version": "3.7.9"
  }
 },
 "nbformat": 4,
 "nbformat_minor": 5
}
